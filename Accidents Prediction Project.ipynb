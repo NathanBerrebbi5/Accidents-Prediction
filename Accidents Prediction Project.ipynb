{
 "cells": [
  {
   "cell_type": "code",
   "execution_count": 69,
   "metadata": {
    "collapsed": false
   },
   "outputs": [
    {
     "name": "stdout",
     "output_type": "stream",
     "text": [
      "The dataset has 36314 rows and 10 columns\n"
     ]
    },
    {
     "data": {
      "text/html": [
       "<div>\n",
       "<table border=\"1\" class=\"dataframe\">\n",
       "  <thead>\n",
       "    <tr style=\"text-align: right;\">\n",
       "      <th></th>\n",
       "      <th>wkt_geom</th>\n",
       "      <th>code</th>\n",
       "      <th>severity</th>\n",
       "      <th>time</th>\n",
       "      <th>lat</th>\n",
       "      <th>desc</th>\n",
       "      <th>lon</th>\n",
       "      <th>name</th>\n",
       "      <th>clust</th>\n",
       "      <th>NN</th>\n",
       "    </tr>\n",
       "  </thead>\n",
       "  <tbody>\n",
       "    <tr>\n",
       "      <th>0</th>\n",
       "      <td>POINT(6119950.59451242536306381 1886366.970110...</td>\n",
       "      <td>201</td>\n",
       "      <td>2</td>\n",
       "      <td>04/10/13 08:00 AM</td>\n",
       "      <td>37.165655</td>\n",
       "      <td>Accident and recovery work on Bear Creek Road ...</td>\n",
       "      <td>-122.015948</td>\n",
       "      <td>Accident(s)</td>\n",
       "      <td>31</td>\n",
       "      <td>11</td>\n",
       "    </tr>\n",
       "    <tr>\n",
       "      <th>1</th>\n",
       "      <td>POINT(6163265.98209197819232941 2195198.763392...</td>\n",
       "      <td>201</td>\n",
       "      <td>2</td>\n",
       "      <td>04/10/13 05:30 PM</td>\n",
       "      <td>38.015568</td>\n",
       "      <td>CA-4 exit ramp partially blocked due to accide...</td>\n",
       "      <td>-121.882976</td>\n",
       "      <td>Accident(s)</td>\n",
       "      <td>14</td>\n",
       "      <td>3</td>\n",
       "    </tr>\n",
       "    <tr>\n",
       "      <th>2</th>\n",
       "      <td>POINT(6156011.13359668850898743 2064637.280291...</td>\n",
       "      <td>201</td>\n",
       "      <td>3</td>\n",
       "      <td>04/10/13 05:55 PM</td>\n",
       "      <td>37.656750</td>\n",
       "      <td>I-680 Southbound exit ramp partially blocked d...</td>\n",
       "      <td>-121.901370</td>\n",
       "      <td>Accident(s)</td>\n",
       "      <td>11</td>\n",
       "      <td>52</td>\n",
       "    </tr>\n",
       "    <tr>\n",
       "      <th>3</th>\n",
       "      <td>POINT(6040154.25608104187995195 2127971.038348...</td>\n",
       "      <td>201</td>\n",
       "      <td>3</td>\n",
       "      <td>04/10/13 06:17 PM</td>\n",
       "      <td>37.825210</td>\n",
       "      <td>Right hand shoulder blocked due to accident on...</td>\n",
       "      <td>-122.305740</td>\n",
       "      <td>Accident(s)</td>\n",
       "      <td>28</td>\n",
       "      <td>11</td>\n",
       "    </tr>\n",
       "    <tr>\n",
       "      <th>4</th>\n",
       "      <td>POINT(6160755.65850416570901871 2058394.601888...</td>\n",
       "      <td>243</td>\n",
       "      <td>3</td>\n",
       "      <td>04/10/13 06:19 PM</td>\n",
       "      <td>37.639801</td>\n",
       "      <td>Lane blocked due to accident on I-680 Southbou...</td>\n",
       "      <td>-121.884663</td>\n",
       "      <td>Accident. Left lane blocked</td>\n",
       "      <td>11</td>\n",
       "      <td>51</td>\n",
       "    </tr>\n",
       "  </tbody>\n",
       "</table>\n",
       "</div>"
      ],
      "text/plain": [
       "                                            wkt_geom  code  severity  \\\n",
       "0  POINT(6119950.59451242536306381 1886366.970110...   201         2   \n",
       "1  POINT(6163265.98209197819232941 2195198.763392...   201         2   \n",
       "2  POINT(6156011.13359668850898743 2064637.280291...   201         3   \n",
       "3  POINT(6040154.25608104187995195 2127971.038348...   201         3   \n",
       "4  POINT(6160755.65850416570901871 2058394.601888...   243         3   \n",
       "\n",
       "                time        lat  \\\n",
       "0  04/10/13 08:00 AM  37.165655   \n",
       "1  04/10/13 05:30 PM  38.015568   \n",
       "2  04/10/13 05:55 PM  37.656750   \n",
       "3  04/10/13 06:17 PM  37.825210   \n",
       "4  04/10/13 06:19 PM  37.639801   \n",
       "\n",
       "                                                desc         lon  \\\n",
       "0  Accident and recovery work on Bear Creek Road ... -122.015948   \n",
       "1  CA-4 exit ramp partially blocked due to accide... -121.882976   \n",
       "2  I-680 Southbound exit ramp partially blocked d... -121.901370   \n",
       "3  Right hand shoulder blocked due to accident on... -122.305740   \n",
       "4  Lane blocked due to accident on I-680 Southbou... -121.884663   \n",
       "\n",
       "                          name  clust  NN  \n",
       "0                  Accident(s)     31  11  \n",
       "1                  Accident(s)     14   3  \n",
       "2                  Accident(s)     11  52  \n",
       "3                  Accident(s)     28  11  \n",
       "4  Accident. Left lane blocked     11  51  "
      ]
     },
     "execution_count": 69,
     "metadata": {},
     "output_type": "execute_result"
    }
   ],
   "source": [
    "%matplotlib inline\n",
    "import warnings\n",
    "warnings.filterwarnings('ignore')\n",
    "import pandas as pd\n",
    "import numpy as np\n",
    "import matplotlib.pyplot as plt\n",
    "import seaborn as sns\n",
    "\n",
    "path = \"C:\\\\Users\\\\30448\\\\Documents\\\\Kaggle\\\\265\"\n",
    "df = pd.read_csv( path + \"\\\\accidents.csv\" )\n",
    "print \"The dataset has %d rows and %d columns\" % (df.shape[0] , df.shape[1])\n",
    "df.head()"
   ]
  },
  {
   "cell_type": "code",
   "execution_count": 82,
   "metadata": {
    "collapsed": false
   },
   "outputs": [
    {
     "data": {
      "image/png": "[encoded data removed]",
      "text/plain": [
       "<matplotlib.figure.Figure at 0x2452dc88>"
      ]
     },
     "metadata": {},
     "output_type": "display_data"
    }
   ],
   "source": [
    "sns.countplot(y = \"severity\" , data = df )\n",
    "plt.tight_layout()"
   ]
  },
  {
   "cell_type": "code",
   "execution_count": 84,
   "metadata": {
    "collapsed": false
   },
   "outputs": [
    {
     "data": {
      "text/html": [
       "<div>\n",
       "<table border=\"1\" class=\"dataframe\">\n",
       "  <thead>\n",
       "    <tr style=\"text-align: right;\">\n",
       "      <th></th>\n",
       "      <th>count</th>\n",
       "    </tr>\n",
       "  </thead>\n",
       "  <tbody>\n",
       "    <tr>\n",
       "      <th>2</th>\n",
       "      <td>20944</td>\n",
       "    </tr>\n",
       "    <tr>\n",
       "      <th>3</th>\n",
       "      <td>15296</td>\n",
       "    </tr>\n",
       "    <tr>\n",
       "      <th>4</th>\n",
       "      <td>54</td>\n",
       "    </tr>\n",
       "    <tr>\n",
       "      <th>1</th>\n",
       "      <td>19</td>\n",
       "    </tr>\n",
       "    <tr>\n",
       "      <th>0</th>\n",
       "      <td>1</td>\n",
       "    </tr>\n",
       "  </tbody>\n",
       "</table>\n",
       "</div>"
      ],
      "text/plain": [
       "   count\n",
       "2  20944\n",
       "3  15296\n",
       "4     54\n",
       "1     19\n",
       "0      1"
      ]
     },
     "execution_count": 84,
     "metadata": {},
     "output_type": "execute_result"
    }
   ],
   "source": [
    "pd.DataFrame( {\"count\": df[\"severity\"].value_counts().values } , index = df[\"severity\"].value_counts().index )"
   ]
  },
  {
   "cell_type": "markdown",
   "metadata": {},
   "source": [
    "<b> The dataset is very unbalanced so we remove the rows with severity = 0 , 1 or 4 </b>"
   ]
  },
  {
   "cell_type": "code",
   "execution_count": 86,
   "metadata": {
    "collapsed": true
   },
   "outputs": [],
   "source": [
    "df = df.loc[df[\"severity\"] >  1].loc[df[\"severity\"] < 4]"
   ]
  },
  {
   "cell_type": "markdown",
   "metadata": {},
   "source": [
    "<b> Pre-Processing the time features: creating months, weekday year and hour features </b>"
   ]
  },
  {
   "cell_type": "code",
   "execution_count": 87,
   "metadata": {
    "collapsed": true
   },
   "outputs": [],
   "source": [
    "df[\"month\"] = df[\"time\"].apply(lambda x:int(x[:2]))\n",
    "df[\"day\"] = df[\"time\"].apply(lambda x:int(x[3:5]))\n",
    "df[\"year\"] = df[\"time\"].apply(lambda x:int(x[6:8]))\n",
    "df[\"hour\"] =  df[\"time\"].apply(lambda x: int(x[9:11]) if str(x)[15] == 'A' else 12 + int(x[9:11])  )\n",
    "df[\"lon\"] = df[\"lon\"].apply(lambda x:abs(x)) #so that multinomialNB works (only with positive features)\n",
    "#creating the date at the datetime format (easier to deal with)\n",
    "df[ \"date\" ]= df[[\"month\" , \"day\" ,\"year\"]].apply(lambda x:pd.datetime(month = x['month'] , day = x['day']  , year = 2000+x[\"year\"]), axis = 1)\n",
    "df[\"weekday\"] =  df[\"date\"].apply(lambda x:x.weekday())"
   ]
  },
  {
   "cell_type": "code",
   "execution_count": 88,
   "metadata": {
    "collapsed": false
   },
   "outputs": [
    {
     "data": {
      "image/png": "[encoded data removed]",
      "text/plain": [
       "<matplotlib.figure.Figure at 0x218292b0>"
      ]
     },
     "metadata": {},
     "output_type": "display_data"
    }
   ],
   "source": [
    "#plotting the dataset with a different color depending on the severity\n",
    "df2 = df.loc[df[\"severity\"] == 2]\n",
    "df3 = df.loc[df[\"severity\"] == 3]\n",
    "\n",
    "xx2 , yy2 = df2[\"lat\"] , -df2[\"lon\"]\n",
    "xx3 , yy3 = df3[\"lat\"] , -df3[\"lon\"]\n",
    "\n",
    "pts2 = plt.scatter(xx2,yy2,color = 'b' )\n",
    "pts3 = plt.scatter(xx3,yy3,color = 'r' )\n",
    "plt.legend((pts2, pts3), ('Severity = 2', 'Severity = 3'),loc='lower left')\n",
    "plt.title(\"Accident Severity Map\")\n",
    "plt.tight_layout()"
   ]
  },
  {
   "cell_type": "markdown",
   "metadata": {},
   "source": [
    "<b> Univariate Analysis </b>"
   ]
  },
  {
   "cell_type": "code",
   "execution_count": 89,
   "metadata": {
    "collapsed": false
   },
   "outputs": [
    {
     "data": {
      "image/png": "[encoded data removed]",
      "text/plain": [
       "<matplotlib.figure.Figure at 0x22100b38>"
      ]
     },
     "metadata": {},
     "output_type": "display_data"
    }
   ],
   "source": [
    "sns.countplot(y = \"hour\" , data = df , order = range(1,25))\n",
    "plt.title(\"Number of accidents by hour\")\n",
    "plt.tight_layout()"
   ]
  },
  {
   "cell_type": "code",
   "execution_count": 90,
   "metadata": {
    "collapsed": false
   },
   "outputs": [
    {
     "data": {
      "image/png": "[encoded data removed]",
      "text/plain": [
       "<matplotlib.figure.Figure at 0x243a3c18>"
      ]
     },
     "metadata": {},
     "output_type": "display_data"
    }
   ],
   "source": [
    "sns.countplot(y = \"month\" , data = df)\n",
    "plt.title(\"Number of accidents by month\")\n",
    "plt.tight_layout()"
   ]
  },
  {
   "cell_type": "code",
   "execution_count": 91,
   "metadata": {
    "collapsed": false
   },
   "outputs": [
    {
     "data": {
      "image/png": "[encoded data removed]",
      "text/plain": [
       "<matplotlib.figure.Figure at 0x242da630>"
      ]
     },
     "metadata": {},
     "output_type": "display_data"
    }
   ],
   "source": [
    "sns.countplot(y = \"weekday\" , data = df)\n",
    "plt.title(\"Number of accidents by weekday\")\n",
    "plt.tight_layout()"
   ]
  },
  {
   "cell_type": "code",
   "execution_count": 107,
   "metadata": {
    "collapsed": false
   },
   "outputs": [
    {
     "data": {
      "text/html": [
       "<div>\n",
       "<table border=\"1\" class=\"dataframe\">\n",
       "  <thead>\n",
       "    <tr style=\"text-align: right;\">\n",
       "      <th></th>\n",
       "      <th>0</th>\n",
       "      <th>1</th>\n",
       "      <th>ratio</th>\n",
       "    </tr>\n",
       "  </thead>\n",
       "  <tbody>\n",
       "    <tr>\n",
       "      <th>22</th>\n",
       "      <td>1363</td>\n",
       "      <td>1301</td>\n",
       "      <td>1.047656</td>\n",
       "    </tr>\n",
       "    <tr>\n",
       "      <th>0</th>\n",
       "      <td>1402</td>\n",
       "      <td>1329</td>\n",
       "      <td>1.054929</td>\n",
       "    </tr>\n",
       "    <tr>\n",
       "      <th>11</th>\n",
       "      <td>1447</td>\n",
       "      <td>1355</td>\n",
       "      <td>1.067897</td>\n",
       "    </tr>\n",
       "    <tr>\n",
       "      <th>12</th>\n",
       "      <td>656</td>\n",
       "      <td>596</td>\n",
       "      <td>1.100671</td>\n",
       "    </tr>\n",
       "    <tr>\n",
       "      <th>21</th>\n",
       "      <td>1300</td>\n",
       "      <td>1061</td>\n",
       "      <td>1.225259</td>\n",
       "    </tr>\n",
       "    <tr>\n",
       "      <th>23</th>\n",
       "      <td>452</td>\n",
       "      <td>358</td>\n",
       "      <td>1.262570</td>\n",
       "    </tr>\n",
       "    <tr>\n",
       "      <th>1</th>\n",
       "      <td>1283</td>\n",
       "      <td>1015</td>\n",
       "      <td>1.264039</td>\n",
       "    </tr>\n",
       "    <tr>\n",
       "      <th>13</th>\n",
       "      <td>1132</td>\n",
       "      <td>892</td>\n",
       "      <td>1.269058</td>\n",
       "    </tr>\n",
       "    <tr>\n",
       "      <th>20</th>\n",
       "      <td>1040</td>\n",
       "      <td>778</td>\n",
       "      <td>1.336761</td>\n",
       "    </tr>\n",
       "    <tr>\n",
       "      <th>14</th>\n",
       "      <td>1494</td>\n",
       "      <td>1060</td>\n",
       "      <td>1.409434</td>\n",
       "    </tr>\n",
       "    <tr>\n",
       "      <th>15</th>\n",
       "      <td>1416</td>\n",
       "      <td>965</td>\n",
       "      <td>1.467358</td>\n",
       "    </tr>\n",
       "    <tr>\n",
       "      <th>18</th>\n",
       "      <td>993</td>\n",
       "      <td>673</td>\n",
       "      <td>1.475483</td>\n",
       "    </tr>\n",
       "    <tr>\n",
       "      <th>19</th>\n",
       "      <td>1017</td>\n",
       "      <td>682</td>\n",
       "      <td>1.491202</td>\n",
       "    </tr>\n",
       "    <tr>\n",
       "      <th>16</th>\n",
       "      <td>1123</td>\n",
       "      <td>731</td>\n",
       "      <td>1.536252</td>\n",
       "    </tr>\n",
       "    <tr>\n",
       "      <th>17</th>\n",
       "      <td>982</td>\n",
       "      <td>625</td>\n",
       "      <td>1.571200</td>\n",
       "    </tr>\n",
       "    <tr>\n",
       "      <th>10</th>\n",
       "      <td>341</td>\n",
       "      <td>217</td>\n",
       "      <td>1.571429</td>\n",
       "    </tr>\n",
       "    <tr>\n",
       "      <th>2</th>\n",
       "      <td>778</td>\n",
       "      <td>460</td>\n",
       "      <td>1.691304</td>\n",
       "    </tr>\n",
       "    <tr>\n",
       "      <th>9</th>\n",
       "      <td>317</td>\n",
       "      <td>177</td>\n",
       "      <td>1.790960</td>\n",
       "    </tr>\n",
       "    <tr>\n",
       "      <th>8</th>\n",
       "      <td>316</td>\n",
       "      <td>150</td>\n",
       "      <td>2.106667</td>\n",
       "    </tr>\n",
       "    <tr>\n",
       "      <th>7</th>\n",
       "      <td>318</td>\n",
       "      <td>147</td>\n",
       "      <td>2.163265</td>\n",
       "    </tr>\n",
       "    <tr>\n",
       "      <th>6</th>\n",
       "      <td>349</td>\n",
       "      <td>157</td>\n",
       "      <td>2.222930</td>\n",
       "    </tr>\n",
       "    <tr>\n",
       "      <th>5</th>\n",
       "      <td>446</td>\n",
       "      <td>192</td>\n",
       "      <td>2.322917</td>\n",
       "    </tr>\n",
       "    <tr>\n",
       "      <th>4</th>\n",
       "      <td>482</td>\n",
       "      <td>201</td>\n",
       "      <td>2.398010</td>\n",
       "    </tr>\n",
       "    <tr>\n",
       "      <th>3</th>\n",
       "      <td>497</td>\n",
       "      <td>174</td>\n",
       "      <td>2.856322</td>\n",
       "    </tr>\n",
       "  </tbody>\n",
       "</table>\n",
       "</div>"
      ],
      "text/plain": [
       "       0     1     ratio\n",
       "22  1363  1301  1.047656\n",
       "0   1402  1329  1.054929\n",
       "11  1447  1355  1.067897\n",
       "12   656   596  1.100671\n",
       "21  1300  1061  1.225259\n",
       "23   452   358  1.262570\n",
       "1   1283  1015  1.264039\n",
       "13  1132   892  1.269058\n",
       "20  1040   778  1.336761\n",
       "14  1494  1060  1.409434\n",
       "15  1416   965  1.467358\n",
       "18   993   673  1.475483\n",
       "19  1017   682  1.491202\n",
       "16  1123   731  1.536252\n",
       "17   982   625  1.571200\n",
       "10   341   217  1.571429\n",
       "2    778   460  1.691304\n",
       "9    317   177  1.790960\n",
       "8    316   150  2.106667\n",
       "7    318   147  2.163265\n",
       "6    349   157  2.222930\n",
       "5    446   192  2.322917\n",
       "4    482   201  2.398010\n",
       "3    497   174  2.856322"
      ]
     },
     "execution_count": 107,
     "metadata": {},
     "output_type": "execute_result"
    }
   ],
   "source": [
    "severity_by_hour = pd.crosstab(index = df[\"hour\"] , columns = df[\"severity\"] )\n",
    "severity_by_hour = pd.DataFrame(severity_by_hour.values)\n",
    "severity_by_hour[\"ratio\"] = severity_by_hour.apply(lambda x:x[0]/float(x[1]) , axis = 1)\n",
    "severity_by_hour.sort_values(by = \"ratio\")"
   ]
  },
  {
   "cell_type": "code",
   "execution_count": 93,
   "metadata": {
    "collapsed": false
   },
   "outputs": [],
   "source": [
    "X = df[[\"month\" , \"hour\" , \"year\" ,\"lon\" , \"lat\"]]\n",
    "y = df[\"severity\"].apply(lambda x:x-2) # shifting to 0-1 values instead of 2-3\n",
    "\n",
    "from sklearn.cross_validation import train_test_split \n",
    "X_train, X_test, y_train, y_test = train_test_split(X, y, test_size=0.33, random_state=42) "
   ]
  },
  {
   "cell_type": "code",
   "execution_count": 95,
   "metadata": {
    "collapsed": true
   },
   "outputs": [],
   "source": [
    "#using the metrics package\n",
    "from sklearn.metrics import *\n",
    "import warnings\n",
    "warnings.filterwarnings(\"ignore\", category=DeprecationWarning) \n",
    "def printScores(y_test, y_pred, classif_name):    \n",
    "    print \"--------------  \"  + classif_name + \"  ------------------\"  \n",
    "    print \"recall : %0.2f\" %  recall_score(y_test, y_pred) \n",
    "    print \"precision : %0.2f\" %  precision_score(y_test, y_pred)   \n",
    "    print \"f1 : %0.2f\" %  f1_score(y_test, y_pred)  \n",
    "    print \"accuracy : %0.2f\" %  accuracy_score(y_test, y_pred)  \n",
    "    print \"---------------------------------------------------\"  "
   ]
  },
  {
   "cell_type": "code",
   "execution_count": 96,
   "metadata": {
    "collapsed": false
   },
   "outputs": [
    {
     "name": "stdout",
     "output_type": "stream",
     "text": [
      "--------------  LogisticRegression  ------------------\n",
      "recall : 0.05\n",
      "precision : 0.25\n",
      "f1 : 0.08\n",
      "accuracy : 0.54\n",
      "---------------------------------------------------\n"
     ]
    }
   ],
   "source": [
    "#logreg (it predicts everything to 0, the most common class)\n",
    "from sklearn.linear_model import LogisticRegression\n",
    "clf = LogisticRegression()\n",
    "clf.fit(X_train,y_train)\n",
    "y_pred = pd.Series(clf.predict(X_test))\n",
    "printScores(y_test, y_pred, \"LogisticRegression\")"
   ]
  },
  {
   "cell_type": "code",
   "execution_count": 97,
   "metadata": {
    "collapsed": false
   },
   "outputs": [
    {
     "name": "stdout",
     "output_type": "stream",
     "text": [
      "--------------  MultinomialNB  ------------------\n",
      "recall : 0.00\n",
      "precision : 0.00\n",
      "f1 : 0.00\n",
      "accuracy : 0.58\n",
      "---------------------------------------------------\n"
     ]
    }
   ],
   "source": [
    "#multinomial NB (it predicts everything to 0, the most common class)\n",
    "from sklearn.naive_bayes import MultinomialNB\n",
    "clf = MultinomialNB()\n",
    "clf.fit(X_train,y_train)\n",
    "y_pred = clf.predict(X_test)\n",
    "printScores(y_test, y_pred, \"MultinomialNB\")   "
   ]
  },
  {
   "cell_type": "code",
   "execution_count": 98,
   "metadata": {
    "collapsed": false
   },
   "outputs": [
    {
     "name": "stdout",
     "output_type": "stream",
     "text": [
      "nb neighbors: 1\n",
      "--------------  KNeighborsClassifier  ------------------\n",
      "recall : 0.74\n",
      "precision : 0.70\n",
      "f1 : 0.72\n",
      "accuracy : 0.76\n",
      "---------------------------------------------------\n",
      "nb neighbors: 3\n",
      "--------------  KNeighborsClassifier  ------------------\n",
      "recall : 0.72\n",
      "precision : 0.68\n",
      "f1 : 0.70\n",
      "accuracy : 0.74\n",
      "---------------------------------------------------\n",
      "nb neighbors: 5\n",
      "--------------  KNeighborsClassifier  ------------------\n",
      "recall : 0.70\n",
      "precision : 0.66\n",
      "f1 : 0.68\n",
      "accuracy : 0.72\n",
      "---------------------------------------------------\n",
      "nb neighbors: 7\n",
      "--------------  KNeighborsClassifier  ------------------\n",
      "recall : 0.69\n",
      "precision : 0.65\n",
      "f1 : 0.67\n",
      "accuracy : 0.71\n",
      "---------------------------------------------------\n",
      "nb neighbors: 9\n",
      "--------------  KNeighborsClassifier  ------------------\n",
      "recall : 0.67\n",
      "precision : 0.64\n",
      "f1 : 0.65\n",
      "accuracy : 0.70\n",
      "---------------------------------------------------\n",
      "nb neighbors: 11\n",
      "--------------  KNeighborsClassifier  ------------------\n",
      "recall : 0.65\n",
      "precision : 0.63\n",
      "f1 : 0.64\n",
      "accuracy : 0.69\n",
      "---------------------------------------------------\n",
      "nb neighbors: 13\n",
      "--------------  KNeighborsClassifier  ------------------\n",
      "recall : 0.64\n",
      "precision : 0.62\n",
      "f1 : 0.63\n",
      "accuracy : 0.68\n",
      "---------------------------------------------------\n",
      "nb neighbors: 15\n",
      "--------------  KNeighborsClassifier  ------------------\n",
      "recall : 0.64\n",
      "precision : 0.61\n",
      "f1 : 0.62\n",
      "accuracy : 0.68\n",
      "---------------------------------------------------\n",
      "nb neighbors: 17\n",
      "--------------  KNeighborsClassifier  ------------------\n",
      "recall : 0.63\n",
      "precision : 0.60\n",
      "f1 : 0.61\n",
      "accuracy : 0.67\n",
      "---------------------------------------------------\n"
     ]
    }
   ],
   "source": [
    "#knn \n",
    "from sklearn.neighbors import KNeighborsClassifier\n",
    "for nb in [1,3,5,7,9,11,13,15,17]:\n",
    "    print \"nb neighbors: %d\" %nb    \n",
    "    clf = KNeighborsClassifier(n_neighbors=nb)\n",
    "    clf.fit(X_train,y_train)\n",
    "    y_pred = pd.Series(clf.predict(X_test))\n",
    "    printScores(y_test, y_pred, \"KNeighborsClassifier\")"
   ]
  },
  {
   "cell_type": "code",
   "execution_count": 99,
   "metadata": {
    "collapsed": false
   },
   "outputs": [
    {
     "name": "stdout",
     "output_type": "stream",
     "text": [
      "--------------  tree  ------------------\n",
      "recall : 0.91\n",
      "precision : 0.90\n",
      "f1 : 0.90\n",
      "accuracy : 0.92\n",
      "---------------------------------------------------\n"
     ]
    }
   ],
   "source": [
    "#tree\n",
    "from sklearn import tree\n",
    "clf = tree.DecisionTreeClassifier()\n",
    "clf.fit(X_train,y_train)\n",
    "y_pred = clf.predict(X_test)\n",
    "printScores(y_test, y_pred, \"tree\")"
   ]
  },
  {
   "cell_type": "code",
   "execution_count": 103,
   "metadata": {
    "collapsed": false
   },
   "outputs": [
    {
     "name": "stdout",
     "output_type": "stream",
     "text": [
      "--------------  RandomForestClassifier  ------------------\n",
      "recall : 0.93\n",
      "precision : 0.87\n",
      "f1 : 0.90\n",
      "accuracy : 0.91\n",
      "---------------------------------------------------\n"
     ]
    }
   ],
   "source": [
    "#random forest\n",
    "from sklearn.ensemble import RandomForestClassifier\n",
    "clf = RandomForestClassifier(n_estimators = 500)\n",
    "clf.fit(X_train,y_train)\n",
    "y_pred = clf.predict(X_test)\n",
    "printScores(y_test, y_pred, \"RandomForestClassifier\")"
   ]
  },
  {
   "cell_type": "code",
   "execution_count": 104,
   "metadata": {
    "collapsed": false
   },
   "outputs": [
    {
     "name": "stdout",
     "output_type": "stream",
     "text": [
      "--------------  svm  ------------------\n",
      "recall : 0.27\n",
      "precision : 0.62\n",
      "f1 : 0.37\n",
      "accuracy : 0.62\n",
      "---------------------------------------------------\n"
     ]
    }
   ],
   "source": [
    "#SVM\n",
    "from sklearn import svm\n",
    "clf = svm.SVC()\n",
    "clf.fit(X, y)  \n",
    "y_pred = clf.predict(X_test)\n",
    "printScores(y_test, y_pred, \"svm\")"
   ]
  },
  {
   "cell_type": "code",
   "execution_count": 105,
   "metadata": {
    "collapsed": false
   },
   "outputs": [
    {
     "name": "stdout",
     "output_type": "stream",
     "text": [
      "--------------  linear svm  ------------------\n",
      "recall : 0.06\n",
      "precision : 0.33\n",
      "f1 : 0.11\n",
      "accuracy : 0.55\n",
      "---------------------------------------------------\n"
     ]
    }
   ],
   "source": [
    "#SVM linear\n",
    "from sklearn import svm\n",
    "clf = svm.SVC(kernel = \"linear\")\n",
    "clf.fit(X, y)  \n",
    "y_pred = clf.predict(X_test)\n",
    "printScores(y_test, y_pred, \"linear svm\")"
   ]
  }
 ],
 "metadata": {
  "kernelspec": {
   "display_name": "Python 2",
   "language": "python",
   "name": "python2"
  },
  "language_info": {
   "codemirror_mode": {
    "name": "ipython",
    "version": 2
   },
   "file_extension": ".py",
   "mimetype": "text/x-python",
   "name": "python",
   "nbconvert_exporter": "python",
   "pygments_lexer": "ipython2",
   "version": "2.7.11"
  }
 },
 "nbformat": 4,
 "nbformat_minor": 0
}
